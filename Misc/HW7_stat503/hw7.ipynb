{
 "metadata": {
  "language_info": {
   "codemirror_mode": {
    "name": "ipython",
    "version": 3
   },
   "file_extension": ".py",
   "mimetype": "text/x-python",
   "name": "python",
   "nbconvert_exporter": "python",
   "pygments_lexer": "ipython3",
   "version": "3.7.7-final"
  },
  "orig_nbformat": 2,
  "kernelspec": {
   "name": "python37764bitde3d774bced742cfaf56ea44fdc90eb8",
   "display_name": "Python 3.7.7 64-bit"
  }
 },
 "nbformat": 4,
 "nbformat_minor": 2,
 "cells": [
  {
   "cell_type": "code",
   "execution_count": 1,
   "metadata": {},
   "outputs": [],
   "source": [
    "import os\n"
   ]
  },
  {
   "cell_type": "code",
   "execution_count": 7,
   "metadata": {},
   "outputs": [],
   "source": [
    "os.chdir(r\"C:\\Users\\apiva\\Desktop\\All-My-Python-Related-Stuff\\Data-Processing-and-Bio-Stuff\\STAT 503\\HW7_stat503\")"
   ]
  },
  {
   "cell_type": "code",
   "execution_count": 10,
   "metadata": {},
   "outputs": [
    {
     "output_type": "execute_result",
     "data": {
      "text/plain": "         ppmCaffeine  preferenceIndex\nstation                              \n1                 50             0.40\n2                100            -0.01\n3                150            -0.65\n4                200            -0.24\n5                 50            -0.34\n6                100             0.39\n7                150            -0.53\n8                200            -0.44\n9                 50            -0.19\n10               100             0.08\n11               150            -0.39\n12               200            -0.13\n13                50            -0.05\n14               100             0.09\n15               150             0.15\n16               200             1.03\n17                50             0.14\n18               100             0.31\n19               150            -0.46\n20               200            -0.05",
      "text/html": "<div>\n<style scoped>\n    .dataframe tbody tr th:only-of-type {\n        vertical-align: middle;\n    }\n\n    .dataframe tbody tr th {\n        vertical-align: top;\n    }\n\n    .dataframe thead th {\n        text-align: right;\n    }\n</style>\n<table border=\"1\" class=\"dataframe\">\n  <thead>\n    <tr style=\"text-align: right;\">\n      <th></th>\n      <th>ppmCaffeine</th>\n      <th>preferenceIndex</th>\n    </tr>\n    <tr>\n      <th>station</th>\n      <th></th>\n      <th></th>\n    </tr>\n  </thead>\n  <tbody>\n    <tr>\n      <th>1</th>\n      <td>50</td>\n      <td>0.40</td>\n    </tr>\n    <tr>\n      <th>2</th>\n      <td>100</td>\n      <td>-0.01</td>\n    </tr>\n    <tr>\n      <th>3</th>\n      <td>150</td>\n      <td>-0.65</td>\n    </tr>\n    <tr>\n      <th>4</th>\n      <td>200</td>\n      <td>-0.24</td>\n    </tr>\n    <tr>\n      <th>5</th>\n      <td>50</td>\n      <td>-0.34</td>\n    </tr>\n    <tr>\n      <th>6</th>\n      <td>100</td>\n      <td>0.39</td>\n    </tr>\n    <tr>\n      <th>7</th>\n      <td>150</td>\n      <td>-0.53</td>\n    </tr>\n    <tr>\n      <th>8</th>\n      <td>200</td>\n      <td>-0.44</td>\n    </tr>\n    <tr>\n      <th>9</th>\n      <td>50</td>\n      <td>-0.19</td>\n    </tr>\n    <tr>\n      <th>10</th>\n      <td>100</td>\n      <td>0.08</td>\n    </tr>\n    <tr>\n      <th>11</th>\n      <td>150</td>\n      <td>-0.39</td>\n    </tr>\n    <tr>\n      <th>12</th>\n      <td>200</td>\n      <td>-0.13</td>\n    </tr>\n    <tr>\n      <th>13</th>\n      <td>50</td>\n      <td>-0.05</td>\n    </tr>\n    <tr>\n      <th>14</th>\n      <td>100</td>\n      <td>0.09</td>\n    </tr>\n    <tr>\n      <th>15</th>\n      <td>150</td>\n      <td>0.15</td>\n    </tr>\n    <tr>\n      <th>16</th>\n      <td>200</td>\n      <td>1.03</td>\n    </tr>\n    <tr>\n      <th>17</th>\n      <td>50</td>\n      <td>0.14</td>\n    </tr>\n    <tr>\n      <th>18</th>\n      <td>100</td>\n      <td>0.31</td>\n    </tr>\n    <tr>\n      <th>19</th>\n      <td>150</td>\n      <td>-0.46</td>\n    </tr>\n    <tr>\n      <th>20</th>\n      <td>200</td>\n      <td>-0.05</td>\n    </tr>\n  </tbody>\n</table>\n</div>"
     },
     "metadata": {},
     "execution_count": 10
    }
   ],
   "source": [
    "import pandas as pd\n",
    "\n",
    "data_frame = pd.read_csv(\"singaravelan_et_al_2005.csv\")\n",
    "data_frame = data_frame.set_index(\"station\")\n",
    "data_frame"
   ]
  },
  {
   "cell_type": "code",
   "execution_count": 11,
   "metadata": {},
   "outputs": [],
   "source": [
    "import numpy as np\n",
    "\n",
    "df_50 = data_frame[data_frame.ppmCaffeine == 50]\n",
    "df_100 = data_frame[data_frame.ppmCaffeine == 100]\n",
    "df_150 = data_frame[data_frame.ppmCaffeine == 150]\n",
    "df_200 = data_frame[data_frame.ppmCaffeine == 200]"
   ]
  },
  {
   "cell_type": "code",
   "execution_count": 17,
   "metadata": {},
   "outputs": [],
   "source": []
  },
  {
   "cell_type": "code",
   "execution_count": null,
   "metadata": {},
   "outputs": [],
   "source": []
  }
 ]
}